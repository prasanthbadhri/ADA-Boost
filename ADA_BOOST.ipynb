{
 "cells": [
  {
   "cell_type": "code",
   "execution_count": 2,
   "id": "30b6f2e1",
   "metadata": {},
   "outputs": [],
   "source": [
    "from sklearn.ensemble import AdaBoostClassifier\n",
    "from sklearn import datasets\n",
    "from sklearn.model_selection import train_test_split\n",
    "from sklearn import metrics"
   ]
  },
  {
   "cell_type": "code",
   "execution_count": 4,
   "id": "2d49fe38",
   "metadata": {},
   "outputs": [],
   "source": [
    "iris = datasets.load_iris()\n",
    "\n",
    "X = iris.data\n",
    "Y = iris.target"
   ]
  },
  {
   "cell_type": "code",
   "execution_count": 5,
   "id": "8f16a73c",
   "metadata": {},
   "outputs": [],
   "source": [
    "X_train, X_test, Y_train, Y_test = train_test_split(X,Y, test_size=0.2)"
   ]
  },
  {
   "cell_type": "code",
   "execution_count": 7,
   "id": "5740e7e7",
   "metadata": {},
   "outputs": [],
   "source": [
    "# Create adaboost classifer object\n",
    "AdaModel = AdaBoostClassifier(n_estimators=100,\n",
    "                         learning_rate=1)\n",
    "# Train Adaboost Classifer\n",
    "model = AdaModel.fit(X_train, Y_train)\n",
    "\n",
    "#Predict the response for test dataset\n",
    "y_pred = model.predict(X_test)"
   ]
  },
  {
   "cell_type": "markdown",
   "id": "334f4521",
   "metadata": {},
   "source": [
    "#### base_estimator: It is a weak learner used to train the model. It uses DecisionTreeClassifier as default weak learner for training purpose. You can also specify different machine learning algorithms.\n",
    "\n"
   ]
  },
  {
   "cell_type": "markdown",
   "id": "54a8fe84",
   "metadata": {},
   "source": [
    "### n_estimators: Number of weak learners to train iteratively."
   ]
  },
  {
   "cell_type": "markdown",
   "id": "94b62e28",
   "metadata": {},
   "source": [
    "### learning_rate: It contributes to the weights of weak learners. It uses 1 as a default value."
   ]
  },
  {
   "cell_type": "code",
   "execution_count": 9,
   "id": "78ccda7a",
   "metadata": {},
   "outputs": [
    {
     "name": "stdout",
     "output_type": "stream",
     "text": [
      "Accuracy: 0.9666666666666667\n"
     ]
    }
   ],
   "source": [
    "# Model Accuracy, how often is the classifier correct?\n",
    "print(\"Accuracy:\",metrics.accuracy_score(Y_test, y_pred))"
   ]
  },
  {
   "cell_type": "code",
   "execution_count": 10,
   "id": "bf05585e",
   "metadata": {},
   "outputs": [],
   "source": [
    "# import support vector classifier"
   ]
  },
  {
   "cell_type": "code",
   "execution_count": 11,
   "id": "33964398",
   "metadata": {},
   "outputs": [],
   "source": [
    "from sklearn.svm import SVC\n",
    "\n",
    "#Import scikit-learn metrics module for accuracy calculation\n",
    "from sklearn import metrics\n",
    "svc = SVC(probability=True, kernel=\"linear\")\n",
    "\n",
    "# creating adaboost classifier object\n",
    "\n",
    "abc = AdaBoostClassifier(n_estimators=50, base_estimator=svc, learning_rate=1)"
   ]
  },
  {
   "cell_type": "code",
   "execution_count": 12,
   "id": "9f7819b9",
   "metadata": {},
   "outputs": [],
   "source": [
    "# train ada boost classifier\n",
    "\n",
    "model = abc.fit(X_train, Y_train)\n",
    "\n",
    "# predict the response for test dataset\n",
    "\n",
    "y_pred = model.predict(X_test)"
   ]
  },
  {
   "cell_type": "code",
   "execution_count": 13,
   "id": "95035698",
   "metadata": {},
   "outputs": [
    {
     "name": "stdout",
     "output_type": "stream",
     "text": [
      "Accuracy: 0.9666666666666667\n"
     ]
    }
   ],
   "source": [
    "print(\"Accuracy:\", metrics.accuracy_score(Y_test, y_pred))"
   ]
  },
  {
   "cell_type": "code",
   "execution_count": null,
   "id": "3f60d75d",
   "metadata": {},
   "outputs": [],
   "source": [
    "# Pros AdaBoost:  \n",
    "# is easy to implement. \n",
    "# It iteratively corrects the mistakes of the weak classifier and \n",
    "# improves accuracy by combining weak learners. \n",
    "# You can use many base classifiers with AdaBoost. \n",
    "# AdaBoost is not prone to overfitting. \n",
    "# This can be found out via experiment results, but there is no concrete reason available.\n",
    "\n",
    "\n",
    "# Cons AdaBoost: \n",
    "# is sensitive to noise data. \n",
    "# It is highly affected by outliers because it tries to fit each point perfectly. \n",
    "# AdaBoost is slower compared to XGBoost."
   ]
  }
 ],
 "metadata": {
  "kernelspec": {
   "display_name": "Python 3",
   "language": "python",
   "name": "python3"
  },
  "language_info": {
   "codemirror_mode": {
    "name": "ipython",
    "version": 3
   },
   "file_extension": ".py",
   "mimetype": "text/x-python",
   "name": "python",
   "nbconvert_exporter": "python",
   "pygments_lexer": "ipython3",
   "version": "3.8.8"
  }
 },
 "nbformat": 4,
 "nbformat_minor": 5
}
